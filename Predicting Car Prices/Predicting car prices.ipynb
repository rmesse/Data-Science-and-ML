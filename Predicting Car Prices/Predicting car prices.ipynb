{
 "cells": [
  {
   "cell_type": "markdown",
   "metadata": {
    "collapsed": true
   },
   "source": [
    "# Car price prediction\n",
    "In this project, we will predict car prices. We will be working with a data set containing information on various cars, including technical specifications (e.g. motor's displacement, weight, miles per gallon, etc.). The data set and its description can be found [here](https://archive.ics.uci.edu/ml/datasets/automobile). "
   ]
  },
  {
   "cell_type": "markdown",
   "metadata": {},
   "source": [
    "## Data import and initial exploration"
   ]
  },
  {
   "cell_type": "code",
   "execution_count": 77,
   "metadata": {
    "collapsed": false
   },
   "outputs": [
    {
     "data": {
      "text/html": [
       "<div>\n",
       "<style scoped>\n",
       "    .dataframe tbody tr th:only-of-type {\n",
       "        vertical-align: middle;\n",
       "    }\n",
       "\n",
       "    .dataframe tbody tr th {\n",
       "        vertical-align: top;\n",
       "    }\n",
       "\n",
       "    .dataframe thead th {\n",
       "        text-align: right;\n",
       "    }\n",
       "</style>\n",
       "<table border=\"1\" class=\"dataframe\">\n",
       "  <thead>\n",
       "    <tr style=\"text-align: right;\">\n",
       "      <th></th>\n",
       "      <th>symboling</th>\n",
       "      <th>normalized-losses</th>\n",
       "      <th>make</th>\n",
       "      <th>fuel-type</th>\n",
       "      <th>aspiration</th>\n",
       "      <th>num-of-doors</th>\n",
       "      <th>body-style</th>\n",
       "      <th>drive-wheels</th>\n",
       "      <th>engine-location</th>\n",
       "      <th>wheel-base</th>\n",
       "      <th>...</th>\n",
       "      <th>engine-size</th>\n",
       "      <th>fuel-system</th>\n",
       "      <th>bore</th>\n",
       "      <th>stroke</th>\n",
       "      <th>compression-rate</th>\n",
       "      <th>horsepower</th>\n",
       "      <th>peak-rpm</th>\n",
       "      <th>city-mpg</th>\n",
       "      <th>highway-mpg</th>\n",
       "      <th>price</th>\n",
       "    </tr>\n",
       "  </thead>\n",
       "  <tbody>\n",
       "    <tr>\n",
       "      <th>0</th>\n",
       "      <td>3</td>\n",
       "      <td>?</td>\n",
       "      <td>alfa-romero</td>\n",
       "      <td>gas</td>\n",
       "      <td>std</td>\n",
       "      <td>two</td>\n",
       "      <td>convertible</td>\n",
       "      <td>rwd</td>\n",
       "      <td>front</td>\n",
       "      <td>88.6</td>\n",
       "      <td>...</td>\n",
       "      <td>130</td>\n",
       "      <td>mpfi</td>\n",
       "      <td>3.47</td>\n",
       "      <td>2.68</td>\n",
       "      <td>9.0</td>\n",
       "      <td>111</td>\n",
       "      <td>5000</td>\n",
       "      <td>21</td>\n",
       "      <td>27</td>\n",
       "      <td>13495</td>\n",
       "    </tr>\n",
       "    <tr>\n",
       "      <th>1</th>\n",
       "      <td>3</td>\n",
       "      <td>?</td>\n",
       "      <td>alfa-romero</td>\n",
       "      <td>gas</td>\n",
       "      <td>std</td>\n",
       "      <td>two</td>\n",
       "      <td>convertible</td>\n",
       "      <td>rwd</td>\n",
       "      <td>front</td>\n",
       "      <td>88.6</td>\n",
       "      <td>...</td>\n",
       "      <td>130</td>\n",
       "      <td>mpfi</td>\n",
       "      <td>3.47</td>\n",
       "      <td>2.68</td>\n",
       "      <td>9.0</td>\n",
       "      <td>111</td>\n",
       "      <td>5000</td>\n",
       "      <td>21</td>\n",
       "      <td>27</td>\n",
       "      <td>16500</td>\n",
       "    </tr>\n",
       "    <tr>\n",
       "      <th>2</th>\n",
       "      <td>1</td>\n",
       "      <td>?</td>\n",
       "      <td>alfa-romero</td>\n",
       "      <td>gas</td>\n",
       "      <td>std</td>\n",
       "      <td>two</td>\n",
       "      <td>hatchback</td>\n",
       "      <td>rwd</td>\n",
       "      <td>front</td>\n",
       "      <td>94.5</td>\n",
       "      <td>...</td>\n",
       "      <td>152</td>\n",
       "      <td>mpfi</td>\n",
       "      <td>2.68</td>\n",
       "      <td>3.47</td>\n",
       "      <td>9.0</td>\n",
       "      <td>154</td>\n",
       "      <td>5000</td>\n",
       "      <td>19</td>\n",
       "      <td>26</td>\n",
       "      <td>16500</td>\n",
       "    </tr>\n",
       "    <tr>\n",
       "      <th>3</th>\n",
       "      <td>2</td>\n",
       "      <td>164</td>\n",
       "      <td>audi</td>\n",
       "      <td>gas</td>\n",
       "      <td>std</td>\n",
       "      <td>four</td>\n",
       "      <td>sedan</td>\n",
       "      <td>fwd</td>\n",
       "      <td>front</td>\n",
       "      <td>99.8</td>\n",
       "      <td>...</td>\n",
       "      <td>109</td>\n",
       "      <td>mpfi</td>\n",
       "      <td>3.19</td>\n",
       "      <td>3.40</td>\n",
       "      <td>10.0</td>\n",
       "      <td>102</td>\n",
       "      <td>5500</td>\n",
       "      <td>24</td>\n",
       "      <td>30</td>\n",
       "      <td>13950</td>\n",
       "    </tr>\n",
       "    <tr>\n",
       "      <th>4</th>\n",
       "      <td>2</td>\n",
       "      <td>164</td>\n",
       "      <td>audi</td>\n",
       "      <td>gas</td>\n",
       "      <td>std</td>\n",
       "      <td>four</td>\n",
       "      <td>sedan</td>\n",
       "      <td>4wd</td>\n",
       "      <td>front</td>\n",
       "      <td>99.4</td>\n",
       "      <td>...</td>\n",
       "      <td>136</td>\n",
       "      <td>mpfi</td>\n",
       "      <td>3.19</td>\n",
       "      <td>3.40</td>\n",
       "      <td>8.0</td>\n",
       "      <td>115</td>\n",
       "      <td>5500</td>\n",
       "      <td>18</td>\n",
       "      <td>22</td>\n",
       "      <td>17450</td>\n",
       "    </tr>\n",
       "  </tbody>\n",
       "</table>\n",
       "<p>5 rows × 26 columns</p>\n",
       "</div>"
      ],
      "text/plain": [
       "   symboling normalized-losses         make fuel-type aspiration num-of-doors  \\\n",
       "0          3                 ?  alfa-romero       gas        std          two   \n",
       "1          3                 ?  alfa-romero       gas        std          two   \n",
       "2          1                 ?  alfa-romero       gas        std          two   \n",
       "3          2               164         audi       gas        std         four   \n",
       "4          2               164         audi       gas        std         four   \n",
       "\n",
       "    body-style drive-wheels engine-location  wheel-base  ...    engine-size  \\\n",
       "0  convertible          rwd           front        88.6  ...            130   \n",
       "1  convertible          rwd           front        88.6  ...            130   \n",
       "2    hatchback          rwd           front        94.5  ...            152   \n",
       "3        sedan          fwd           front        99.8  ...            109   \n",
       "4        sedan          4wd           front        99.4  ...            136   \n",
       "\n",
       "   fuel-system  bore  stroke compression-rate horsepower  peak-rpm city-mpg  \\\n",
       "0         mpfi  3.47    2.68              9.0        111      5000       21   \n",
       "1         mpfi  3.47    2.68              9.0        111      5000       21   \n",
       "2         mpfi  2.68    3.47              9.0        154      5000       19   \n",
       "3         mpfi  3.19    3.40             10.0        102      5500       24   \n",
       "4         mpfi  3.19    3.40              8.0        115      5500       18   \n",
       "\n",
       "  highway-mpg  price  \n",
       "0          27  13495  \n",
       "1          27  16500  \n",
       "2          26  16500  \n",
       "3          30  13950  \n",
       "4          22  17450  \n",
       "\n",
       "[5 rows x 26 columns]"
      ]
     },
     "execution_count": 77,
     "metadata": {},
     "output_type": "execute_result"
    }
   ],
   "source": [
    "import pandas as pd\n",
    "import numpy as np\n",
    "cars = pd.read_csv('imports-85.data', \n",
    "                   names=['symboling', 'normalized-losses', 'make', \n",
    "                          'fuel-type', 'aspiration', 'num-of-doors', \n",
    "                          'body-style', 'drive-wheels', 'engine-location', \n",
    "                          'wheel-base', 'length', 'width', 'height', \n",
    "                          'curb-weight', 'engine-type', 'num-of-cylinders', \n",
    "                          'engine-size', 'fuel-system', 'bore', 'stroke', \n",
    "                          'compression-rate', 'horsepower', 'peak-rpm', 'city-mpg', \n",
    "                          'highway-mpg', 'price'])\n",
    "cars.head()"
   ]
  },
  {
   "cell_type": "markdown",
   "metadata": {},
   "source": [
    "We will select only the numeric columns with continuous values."
   ]
  },
  {
   "cell_type": "code",
   "execution_count": 78,
   "metadata": {
    "collapsed": true
   },
   "outputs": [],
   "source": [
    "continuous_values_cols = ['normalized-losses', 'wheel-base', 'length', 'width', 'height', 'curb-weight', 'bore', 'stroke', 'compression-rate', 'horsepower', 'peak-rpm', 'city-mpg', 'highway-mpg', 'price']\n",
    "numeric_cars = cars[continuous_values_cols]"
   ]
  },
  {
   "cell_type": "markdown",
   "metadata": {},
   "source": [
    "## Data cleanup"
   ]
  },
  {
   "cell_type": "code",
   "execution_count": 79,
   "metadata": {
    "collapsed": false
   },
   "outputs": [
    {
     "data": {
      "text/plain": [
       "normalized-losses    37\n",
       "wheel-base            0\n",
       "length                0\n",
       "width                 0\n",
       "height                0\n",
       "curb-weight           0\n",
       "bore                  4\n",
       "stroke                4\n",
       "compression-rate      0\n",
       "horsepower            2\n",
       "peak-rpm              2\n",
       "city-mpg              0\n",
       "highway-mpg           0\n",
       "price                 0\n",
       "dtype: int64"
      ]
     },
     "execution_count": 79,
     "metadata": {},
     "output_type": "execute_result"
    }
   ],
   "source": [
    "# Replace each '?' by NaN (missing value)\n",
    "numeric_cars = numeric_cars.replace('?', np.nan)\n",
    "\n",
    "# Convert columns to numeric (float)\n",
    "numeric_cars = numeric_cars.astype('float')\n",
    "\n",
    "# Removal of rows with missing price\n",
    "numeric_cars = numeric_cars.dropna(subset=['price'])\n",
    "numeric_cars.isnull().sum()"
   ]
  },
  {
   "cell_type": "markdown",
   "metadata": {},
   "source": [
    "Some rows have more than one missing value. We will remove them. "
   ]
  },
  {
   "cell_type": "code",
   "execution_count": 80,
   "metadata": {
    "collapsed": false
   },
   "outputs": [
    {
     "name": "stdout",
     "output_type": "stream",
     "text": [
      "<class 'pandas.core.frame.DataFrame'>\n",
      "Int64Index: 195 entries, 0 to 204\n",
      "Data columns (total 14 columns):\n",
      "normalized-losses    160 non-null float64\n",
      "wheel-base           195 non-null float64\n",
      "length               195 non-null float64\n",
      "width                195 non-null float64\n",
      "height               195 non-null float64\n",
      "curb-weight          195 non-null float64\n",
      "bore                 195 non-null float64\n",
      "stroke               195 non-null float64\n",
      "compression-rate     195 non-null float64\n",
      "horsepower           195 non-null float64\n",
      "peak-rpm             195 non-null float64\n",
      "city-mpg             195 non-null float64\n",
      "highway-mpg          195 non-null float64\n",
      "price                195 non-null float64\n",
      "dtypes: float64(14)\n",
      "memory usage: 22.9 KB\n"
     ]
    }
   ],
   "source": [
    "numeric_cars = numeric_cars[numeric_cars.isnull().sum(axis=1)<2]\n",
    "numeric_cars.info()"
   ]
  },
  {
   "cell_type": "markdown",
   "metadata": {},
   "source": [
    "For each column, we will replace missing values with the column mean."
   ]
  },
  {
   "cell_type": "code",
   "execution_count": 81,
   "metadata": {
    "collapsed": false
   },
   "outputs": [
    {
     "data": {
      "text/plain": [
       "normalized-losses    0\n",
       "wheel-base           0\n",
       "length               0\n",
       "width                0\n",
       "height               0\n",
       "curb-weight          0\n",
       "bore                 0\n",
       "stroke               0\n",
       "compression-rate     0\n",
       "horsepower           0\n",
       "peak-rpm             0\n",
       "city-mpg             0\n",
       "highway-mpg          0\n",
       "price                0\n",
       "dtype: int64"
      ]
     },
     "execution_count": 81,
     "metadata": {},
     "output_type": "execute_result"
    }
   ],
   "source": [
    "numeric_cars = numeric_cars.fillna(numeric_cars.mean())\n",
    "numeric_cars.isnull().sum()"
   ]
  },
  {
   "cell_type": "markdown",
   "metadata": {},
   "source": [
    "We will normalize each column so that each value is between 0 and 1."
   ]
  },
  {
   "cell_type": "code",
   "execution_count": 82,
   "metadata": {
    "collapsed": true
   },
   "outputs": [],
   "source": [
    "price_col = numeric_cars['price']\n",
    "numeric_cars = (numeric_cars - numeric_cars.min())/(numeric_cars.max() - numeric_cars.min())\n",
    "numeric_cars['price'] = price_col"
   ]
  },
  {
   "cell_type": "markdown",
   "metadata": {},
   "source": [
    "## Univariate models"
   ]
  },
  {
   "cell_type": "markdown",
   "metadata": {},
   "source": [
    "We will generate several univariate models for price prediction, each based on a single feature. We will test the number of neighbours for each model."
   ]
  },
  {
   "cell_type": "code",
   "execution_count": 83,
   "metadata": {
    "collapsed": false
   },
   "outputs": [
    {
     "data": {
      "text/plain": [
       "{'bore': {1: 9782.241055679857,\n",
       "  3: 6987.841188454177,\n",
       "  5: 7076.77561366209,\n",
       "  7: 7604.132316795714,\n",
       "  9: 7654.952689987121},\n",
       " 'city-mpg': {1: 5622.607820583046,\n",
       "  3: 4206.80832744432,\n",
       "  5: 4437.412782379445,\n",
       "  7: 4599.831016942161,\n",
       "  9: 4520.10890409878},\n",
       " 'compression-rate': {1: 7083.660420939422,\n",
       "  3: 6717.9716151019275,\n",
       "  5: 7020.882647516912,\n",
       "  7: 6879.383359042175,\n",
       "  9: 7206.35504394561},\n",
       " 'curb-weight': {1: 6739.432537578474,\n",
       "  3: 5187.904039397362,\n",
       "  5: 4594.66840143918,\n",
       "  7: 4125.28829394039,\n",
       "  9: 4175.967095661961},\n",
       " 'height': {1: 9144.689129517208,\n",
       "  3: 8163.539469846211,\n",
       "  5: 7574.683028055379,\n",
       "  7: 7909.810658286173,\n",
       "  9: 7609.841226601191},\n",
       " 'highway-mpg': {1: 5591.286916046342,\n",
       "  3: 4674.102996268684,\n",
       "  5: 4409.808045940415,\n",
       "  7: 4269.119331662173,\n",
       "  9: 4234.824050221162},\n",
       " 'horsepower': {1: 4333.419203100009,\n",
       "  3: 4581.258594235456,\n",
       "  5: 4543.271115190293,\n",
       "  7: 4784.710711209458,\n",
       "  9: 4757.006203766791},\n",
       " 'length': {1: 5294.122074604657,\n",
       "  3: 5152.07565848008,\n",
       "  5: 5210.375155829933,\n",
       "  7: 5380.406089801247,\n",
       "  9: 5345.177600946847},\n",
       " 'normalized-losses': {1: 7643.599006051149,\n",
       "  3: 7706.6244752628945,\n",
       "  5: 7050.38518765363,\n",
       "  7: 7137.933890745608,\n",
       "  9: 7060.9095232601885},\n",
       " 'peak-rpm': {1: 6920.33802038069,\n",
       "  3: 7140.701268543305,\n",
       "  5: 7313.971817929666,\n",
       "  7: 7285.090885437158,\n",
       "  9: 7239.111535089118},\n",
       " 'stroke': {1: 7395.419041265908,\n",
       "  3: 7098.713848967558,\n",
       "  5: 7217.395543789337,\n",
       "  7: 7620.369667013048,\n",
       "  9: 7436.295966232443},\n",
       " 'wheel-base': {1: 5718.710483302747,\n",
       "  3: 5718.484995916845,\n",
       "  5: 5692.794469058125,\n",
       "  7: 5725.90612518176,\n",
       "  9: 5840.798592662684},\n",
       " 'width': {1: 6247.139609943294,\n",
       "  3: 5419.04112812399,\n",
       "  5: 4934.118151510077,\n",
       "  7: 4520.036899919594,\n",
       "  9: 4469.768228344414}}"
      ]
     },
     "execution_count": 83,
     "metadata": {},
     "output_type": "execute_result"
    }
   ],
   "source": [
    "def knn_train_test(train_col, target_col, df):\n",
    "    np.random.seed(1)\n",
    "        \n",
    "    # Randomize order of rows in data frame.\n",
    "    shuffled_index = np.random.permutation(df.index)\n",
    "    rand_df = df.reindex(shuffled_index)\n",
    "\n",
    "    # Divide number of rows in half and round.\n",
    "    last_train_row = int(len(rand_df) / 2)\n",
    "    \n",
    "    # Select the first half and set as training set.\n",
    "    # Select the second half and set as test set.\n",
    "    train_df = rand_df.iloc[0:last_train_row]\n",
    "    test_df = rand_df.iloc[last_train_row:]\n",
    "    \n",
    "    k_values = [1,3,5,7,9]\n",
    "    k_rmses = {}\n",
    "    \n",
    "    for k in k_values:\n",
    "        # Fit model using k nearest neighbors.\n",
    "        knn = KNeighborsRegressor(n_neighbors=k)\n",
    "        knn.fit(train_df[[train_col]], train_df[target_col])\n",
    "\n",
    "        # Make predictions using model.\n",
    "        predicted_labels = knn.predict(test_df[[train_col]])\n",
    "\n",
    "        # Calculate and return RMSE.\n",
    "        mse = mean_squared_error(test_df[target_col], predicted_labels)\n",
    "        rmse = np.sqrt(mse)\n",
    "        \n",
    "        k_rmses[k] = rmse\n",
    "    return k_rmses\n",
    "\n",
    "k_rmse_results = {}\n",
    "\n",
    "# For each column (minus `price`), train a model, return RMSE value\n",
    "# and add to the dictionary `rmse_results`.\n",
    "train_cols = numeric_cars.columns.drop('price')\n",
    "for col in train_cols:\n",
    "    rmse_val = knn_train_test(col, 'price', numeric_cars)\n",
    "    k_rmse_results[col] = rmse_val\n",
    "\n",
    "k_rmse_results"
   ]
  },
  {
   "cell_type": "code",
   "execution_count": 86,
   "metadata": {
    "collapsed": false
   },
   "outputs": [
    {
     "data": {
      "image/png": "[encoded data removed]",
      "text/plain": [
       "<matplotlib.figure.Figure at 0x7f0e381f7278>"
      ]
     },
     "metadata": {},
     "output_type": "display_data"
    }
   ],
   "source": [
    "import matplotlib.pyplot as plt\n",
    "%matplotlib inline\n",
    "\n",
    "for k,v in k_rmse_results.items():\n",
    "    x = list(v.keys())\n",
    "    y = list(v.values())\n",
    "    \n",
    "    plt.plot(x,y)\n",
    "    plt.xlabel('k value')\n",
    "    plt.ylabel('RMSE')"
   ]
  },
  {
   "cell_type": "code",
   "execution_count": 87,
   "metadata": {
    "collapsed": false
   },
   "outputs": [
    {
     "name": "stdout",
     "output_type": "stream",
     "text": [
      "horsepower           4599.933166\n",
      "highway-mpg          4635.828268\n",
      "city-mpg             4677.353770\n",
      "curb-weight          4964.652074\n",
      "width                5118.020804\n",
      "length               5276.431316\n",
      "wheel-base           5739.338933\n",
      "compression-rate     6981.650617\n",
      "peak-rpm             7179.842705\n",
      "normalized-losses    7319.890417\n",
      "stroke               7353.638813\n",
      "bore                 7821.188573\n",
      "height               8080.512702\n",
      "dtype: float64\n"
     ]
    }
   ],
   "source": [
    "# Average RMSE across different `k` values for each feature.\n",
    "feature_avg_rmse = {}\n",
    "for k,v in k_rmse_results.items():\n",
    "    avg_rmse = np.mean(list(v.values()))\n",
    "    feature_avg_rmse[k] = avg_rmse\n",
    "series_avg_rmse = pd.Series(feature_avg_rmse)\n",
    "sorted_series_avg_rmse = series_avg_rmse.sort_values()\n",
    "print(sorted_series_avg_rmse)\n",
    "\n",
    "sorted_features = sorted_series_avg_rmse.index"
   ]
  },
  {
   "cell_type": "markdown",
   "metadata": {},
   "source": [
    "## Multivariate models\n",
    "We will modify the function defined above to accept multiple columns."
   ]
  },
  {
   "cell_type": "code",
   "execution_count": 88,
   "metadata": {
    "collapsed": false
   },
   "outputs": [
    {
     "data": {
      "text/plain": [
       "{'2 best features': {5: 3850.6951958082077},\n",
       " '3 best features': {5: 3562.0050421648994},\n",
       " '4 best features': {5: 3772.972620940596},\n",
       " '5 best features': {5: 3730.9709218915123},\n",
       " '6 best features': {5: 3933.0052403748873}}"
      ]
     },
     "execution_count": 88,
     "metadata": {},
     "output_type": "execute_result"
    }
   ],
   "source": [
    "def knn_train_test(train_cols, target_col, df):\n",
    "    np.random.seed(1)\n",
    "    \n",
    "    # Randomize order of rows in data frame.\n",
    "    shuffled_index = np.random.permutation(df.index)\n",
    "    rand_df = df.reindex(shuffled_index)\n",
    "\n",
    "    # Divide number of rows in half and round.\n",
    "    last_train_row = int(len(rand_df) / 2)\n",
    "    \n",
    "    # Select the first half and set as training set.\n",
    "    # Select the second half and set as test set.\n",
    "    train_df = rand_df.iloc[0:last_train_row]\n",
    "    test_df = rand_df.iloc[last_train_row:]\n",
    "    \n",
    "    k_values = [5]\n",
    "    k_rmses = {}\n",
    "    \n",
    "    for k in k_values:\n",
    "        # Fit model using k nearest neighbors.\n",
    "        knn = KNeighborsRegressor(n_neighbors=k)\n",
    "        knn.fit(train_df[train_cols], train_df[target_col])\n",
    "\n",
    "        # Make predictions using model.\n",
    "        predicted_labels = knn.predict(test_df[train_cols])\n",
    "\n",
    "        # Calculate and return RMSE.\n",
    "        mse = mean_squared_error(test_df[target_col], predicted_labels)\n",
    "        rmse = np.sqrt(mse)\n",
    "        \n",
    "        k_rmses[k] = rmse\n",
    "    return k_rmses\n",
    "\n",
    "k_rmse_results = {}\n",
    "\n",
    "for nr_best_feats in range(2,7):\n",
    "    k_rmse_results['{} best features'.format(nr_best_feats)] = knn_train_test(\n",
    "        sorted_features[:nr_best_feats],\n",
    "        'price',\n",
    "        numeric_cars\n",
    "    )\n",
    "\n",
    "k_rmse_results"
   ]
  },
  {
   "cell_type": "markdown",
   "metadata": {},
   "source": [
    "## Hyperparameter tuning"
   ]
  },
  {
   "cell_type": "code",
   "execution_count": 89,
   "metadata": {
    "collapsed": false
   },
   "outputs": [
    {
     "data": {
      "text/plain": [
       "{'2 best features': {1: 4050.319435626312,\n",
       "  2: 3147.7458504103392,\n",
       "  3: 3321.0321651142367,\n",
       "  4: 3637.4420099346953,\n",
       "  5: 3850.6951958082077,\n",
       "  6: 3838.987047999148,\n",
       "  7: 3839.9864986844855,\n",
       "  8: 3862.665519103112,\n",
       "  9: 3925.4432931992474,\n",
       "  10: 4061.3079445932594,\n",
       "  11: 4140.635867573897,\n",
       "  12: 4335.588126776499,\n",
       "  13: 4441.022422216654,\n",
       "  14: 4494.107806074035,\n",
       "  15: 4531.819602476223,\n",
       "  16: 4519.885590458795,\n",
       "  17: 4568.688900479718,\n",
       "  18: 4623.041062323228,\n",
       "  19: 4710.274131705177,\n",
       "  20: 4754.139634007699,\n",
       "  21: 4790.004351670096,\n",
       "  22: 4843.723534220048,\n",
       "  23: 4868.486864680671,\n",
       "  24: 4852.357687673869},\n",
       " '3 best features': {1: 4480.25403684812,\n",
       "  2: 3557.4090480578816,\n",
       "  3: 3492.9074437251898,\n",
       "  4: 3381.491525852647,\n",
       "  5: 3562.0050421648994,\n",
       "  6: 3779.233622737123,\n",
       "  7: 3710.3724823427024,\n",
       "  8: 3775.406613014095,\n",
       "  9: 3941.5228770361136,\n",
       "  10: 4135.572993318003,\n",
       "  11: 4146.1685481743425,\n",
       "  12: 4247.6050528777305,\n",
       "  13: 4325.8889315866745,\n",
       "  14: 4440.4505074989975,\n",
       "  15: 4526.275630540867,\n",
       "  16: 4522.802214496283,\n",
       "  17: 4487.540661220769,\n",
       "  18: 4559.580077380851,\n",
       "  19: 4629.741982548916,\n",
       "  20: 4737.886105630175,\n",
       "  21: 4797.035589918671,\n",
       "  22: 4836.40836292475,\n",
       "  23: 4825.688382921518,\n",
       "  24: 4839.517349805398},\n",
       " '4 best features': {1: 3976.225773011284,\n",
       "  2: 3651.055324442901,\n",
       "  3: 3610.2741814899437,\n",
       "  4: 3703.5705476820826,\n",
       "  5: 3772.972620940596,\n",
       "  6: 3877.9579705013634,\n",
       "  7: 3823.1697432461247,\n",
       "  8: 3907.3837507148905,\n",
       "  9: 3967.4893519705247,\n",
       "  10: 4077.5388708841797,\n",
       "  11: 4196.71531953058,\n",
       "  12: 4184.555570943948,\n",
       "  13: 4293.575967556653,\n",
       "  14: 4342.436432612779,\n",
       "  15: 4295.071445394487,\n",
       "  16: 4356.069371406162,\n",
       "  17: 4376.645699681218,\n",
       "  18: 4326.2299907488305,\n",
       "  19: 4348.431274053819,\n",
       "  20: 4340.268244126091,\n",
       "  21: 4322.825920959263,\n",
       "  22: 4400.583173171368,\n",
       "  23: 4453.231570011722,\n",
       "  24: 4459.579353905769},\n",
       " '5 best features': {1: 3519.1486577736673,\n",
       "  2: 3796.0301487614825,\n",
       "  3: 3710.0545290930077,\n",
       "  4: 3575.410538009044,\n",
       "  5: 3730.9709218915123,\n",
       "  6: 3857.4451264939025,\n",
       "  7: 3861.42639880689,\n",
       "  8: 3851.2781723404732,\n",
       "  9: 3951.248814616885,\n",
       "  10: 4020.7680610189645,\n",
       "  11: 4103.325320203174,\n",
       "  12: 4108.842932528492,\n",
       "  13: 4104.010779655855,\n",
       "  14: 4100.372068878412,\n",
       "  15: 4092.0243203150553,\n",
       "  16: 4114.544724251604,\n",
       "  17: 4114.496806040343,\n",
       "  18: 4176.025769592494,\n",
       "  19: 4166.381715257925,\n",
       "  20: 4189.601064074829,\n",
       "  21: 4223.244071809439,\n",
       "  22: 4248.017070029272,\n",
       "  23: 4235.908923599667,\n",
       "  24: 4250.174219768451}}"
      ]
     },
     "execution_count": 89,
     "metadata": {},
     "output_type": "execute_result"
    }
   ],
   "source": [
    "def knn_train_test(train_cols, target_col, df):\n",
    "    np.random.seed(1)\n",
    "    \n",
    "    # Randomize order of rows in data frame.\n",
    "    shuffled_index = np.random.permutation(df.index)\n",
    "    rand_df = df.reindex(shuffled_index)\n",
    "\n",
    "    # Divide number of rows in half and round.\n",
    "    last_train_row = int(len(rand_df) / 2)\n",
    "    \n",
    "    # Select the first half and set as training set.\n",
    "    # Select the second half and set as test set.\n",
    "    train_df = rand_df.iloc[0:last_train_row]\n",
    "    test_df = rand_df.iloc[last_train_row:]\n",
    "    \n",
    "    k_values = [i for i in range(1, 25)]\n",
    "    k_rmses = {}\n",
    "    \n",
    "    for k in k_values:\n",
    "        # Fit model using k nearest neighbors.\n",
    "        knn = KNeighborsRegressor(n_neighbors=k)\n",
    "        knn.fit(train_df[train_cols], train_df[target_col])\n",
    "\n",
    "        # Make predictions using model.\n",
    "        predicted_labels = knn.predict(test_df[train_cols])\n",
    "\n",
    "        # Calculate and return RMSE.\n",
    "        mse = mean_squared_error(test_df[target_col], predicted_labels)\n",
    "        rmse = np.sqrt(mse)\n",
    "        \n",
    "        k_rmses[k] = rmse\n",
    "    return k_rmses\n",
    "\n",
    "k_rmse_results = {}\n",
    "\n",
    "for nr_best_feats in range(2,6):\n",
    "    k_rmse_results['{} best features'.format(nr_best_feats)] = knn_train_test(\n",
    "        sorted_features[:nr_best_feats],\n",
    "        'price',\n",
    "        numeric_cars\n",
    "    )\n",
    "\n",
    "k_rmse_results"
   ]
  },
  {
   "cell_type": "code",
   "execution_count": 90,
   "metadata": {
    "collapsed": false
   },
   "outputs": [
    {
     "data": {
      "image/png": "[encoded data removed]",
      "text/plain": [
       "<matplotlib.figure.Figure at 0x7f0e2c9d2208>"
      ]
     },
     "metadata": {},
     "output_type": "display_data"
    }
   ],
   "source": [
    "for k,v in k_rmse_results.items():\n",
    "    x = list(v.keys())\n",
    "    y = list(v.values())\n",
    "    \n",
    "    plt.plot(x,y)\n",
    "    plt.xlabel('k value')\n",
    "    plt.ylabel('RMSE')"
   ]
  }
 ],
 "metadata": {
  "kernelspec": {
   "display_name": "Python 3",
   "language": "python",
   "name": "python3"
  },
  "language_info": {
   "codemirror_mode": {
    "name": "ipython",
    "version": 3
   },
   "file_extension": ".py",
   "mimetype": "text/x-python",
   "name": "python",
   "nbconvert_exporter": "python",
   "pygments_lexer": "ipython3",
   "version": "3.4.3"
  }
 },
 "nbformat": 4,
 "nbformat_minor": 2
}
